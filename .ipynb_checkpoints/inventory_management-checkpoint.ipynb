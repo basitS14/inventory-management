{
 "cells": [
  {
   "cell_type": "code",
   "execution_count": 1,
   "id": "25837586-03d9-48c7-9071-3bdea1f75972",
   "metadata": {
    "tags": []
   },
   "outputs": [],
   "source": [
    "import datetime as dt\n",
    "import json"
   ]
  },
  {
   "cell_type": "markdown",
   "id": "059b549a-63b7-4309-a02a-eb0daf763564",
   "metadata": {},
   "source": [
    "## Database Design"
   ]
  },
  {
   "cell_type": "code",
   "execution_count": 2,
   "id": "9086b4eb-8e9f-41dd-b0e1-25df6ab90d9b",
   "metadata": {
    "tags": []
   },
   "outputs": [],
   "source": [
    "inventory = {111:{\"product_name\":\"oil\",\n",
    "                 \"cat\":\"cooking\",\n",
    "                  \"qty\":6,\n",
    "                  \"price\":350,\n",
    "                  \"exp\":\"2023-12-31\",\n",
    "                 },\n",
    "            112:{\"product_name\":\"chips\",\n",
    "                 \"cat\":\"snacks\",\n",
    "                  \"qty\":100,\n",
    "                  \"price\":30,\n",
    "                  \"exp\":\"2024-01-21\",\n",
    "                 },\n",
    "            113:{\"product_name\":\"notebooks\",\n",
    "                 \"cat\":\"stationary\",\n",
    "                  \"qty\":109,\n",
    "                  \"price\":60,\n",
    "                 \"exp\":None,\n",
    "                 },\n",
    "            114:{\"product_name\":\"pens\",\n",
    "                 \"cat\":\"stationary\",\n",
    "                  \"qty\":200,\n",
    "                  \"price\":10,\n",
    "                 \"exp\":None,\n",
    "                 },\n",
    "            115:{\"product_name\":\"bulbs\",\n",
    "                 \"cat\":\"electric\",\n",
    "                  \"qty\":45,\n",
    "                  \"price\":103,\n",
    "                 \"exp\":None,\n",
    "                 },\n",
    "            116:{\"product_name\":\"boric powder\",\n",
    "                 \"cat\":\"workshop\",\n",
    "                  \"qty\":30,\n",
    "                  \"price\":45,\n",
    "                  \"exp\":\"2024-12-31\",\n",
    "                 },\n",
    "\n",
    "            }"
   ]
  },
  {
   "cell_type": "markdown",
   "id": "b686fa36-b1ce-4885-a5ab-6c62905b5aee",
   "metadata": {},
   "source": [
    "## Display Data"
   ]
  },
  {
   "cell_type": "code",
   "execution_count": 3,
   "id": "da103db2-c2d7-48b4-8c7f-297f7ef1b43d",
   "metadata": {
    "tags": []
   },
   "outputs": [],
   "source": [
    "def display(dict):\n",
    "    print(\"-\"*4 , \"INVENTORY LIST\" , \"-\"*4)\n",
    "    print(\"-\"*20)\n",
    "\n",
    "    for i in inventory:\n",
    "        print(\"-\"*20)\n",
    "\n",
    "        print(\"Product ID:\",i)\n",
    "        print(\"Product Name:\"+dict[i][\"product_name\"])\n",
    "        print(\"Category:\"+dict[i][\"cat\"])\n",
    "        print(\"Quantity:\",dict[i][\"qty\"])\n",
    "        print(\"Price:\",dict[i][\"price\"])\n",
    "        print(\"Expiry:\"+str(dict[i][\"exp\"]))"
   ]
  },
  {
   "cell_type": "code",
   "execution_count": 4,
   "id": "64dc058b-02b0-48b3-be70-6611eca3a450",
   "metadata": {
    "tags": []
   },
   "outputs": [
    {
     "name": "stdout",
     "output_type": "stream",
     "text": [
      "---- INVENTORY LIST ----\n",
      "--------------------\n",
      "--------------------\n",
      "Product ID: 111\n",
      "Product Name:oil\n",
      "Category:cooking\n",
      "Quantity: 6\n",
      "Price: 350\n",
      "Expiry:2023-12-31\n",
      "--------------------\n",
      "Product ID: 112\n",
      "Product Name:chips\n",
      "Category:snacks\n",
      "Quantity: 100\n",
      "Price: 30\n",
      "Expiry:2024-01-21\n",
      "--------------------\n",
      "Product ID: 113\n",
      "Product Name:notebooks\n",
      "Category:stationary\n",
      "Quantity: 109\n",
      "Price: 60\n",
      "Expiry:None\n",
      "--------------------\n",
      "Product ID: 114\n",
      "Product Name:pens\n",
      "Category:stationary\n",
      "Quantity: 200\n",
      "Price: 10\n",
      "Expiry:None\n",
      "--------------------\n",
      "Product ID: 115\n",
      "Product Name:bulbs\n",
      "Category:electric\n",
      "Quantity: 45\n",
      "Price: 103\n",
      "Expiry:None\n",
      "--------------------\n",
      "Product ID: 116\n",
      "Product Name:boric powder\n",
      "Category:workshop\n",
      "Quantity: 30\n",
      "Price: 45\n",
      "Expiry:2024-12-31\n"
     ]
    }
   ],
   "source": [
    "display(inventory)"
   ]
  },
  {
   "cell_type": "markdown",
   "id": "5f36bd85-92ac-40e8-ac04-28845fad1cab",
   "metadata": {},
   "source": [
    "## Search for product"
   ]
  },
  {
   "cell_type": "code",
   "execution_count": 5,
   "id": "23a2a7c1-72fa-4ab9-922f-82048c09d7f2",
   "metadata": {
    "tags": []
   },
   "outputs": [],
   "source": [
    "def search(s):\n",
    "    print(\"***** Poduct Details *****\")\n",
    "    for i in inventory:\n",
    "        if s == str(i):\n",
    "            print(\"Product ID :\" , i)\n",
    "            print(\"Prodcut Name :\", inventory[i][\"product_name\"])\n",
    "            print(\"Category :\", inventory[i][\"cat\"])\n",
    "            print(\"Quantity :\", inventory[i][\"qty\"])\n",
    "            print(\"Price per unit :\", inventory[i][\"price\"])\n",
    "            print(\"Expirt Date :\", inventory[i][\"exp\"])\n",
    "            break\n",
    "\n",
    "\n",
    "        elif s.lower() == inventory[i][\"product_name\"].lower():\n",
    "            print(\"Product ID :\" , i)\n",
    "            print(\"Prodcut Name :\", inventory[i][\"product_name\"])\n",
    "            print(\"Category :\", inventory[i][\"cat\"])\n",
    "            print(\"Quantity :\", inventory[i][\"qty\"])\n",
    "            print(\"Price per unit :\", inventory[i][\"price\"])\n",
    "            print(\"Expiry Date :\", inventory[i][\"exp\"])\n",
    "            break\n",
    "  \n",
    "\n",
    "\n",
    "    "
   ]
  },
  {
   "cell_type": "code",
   "execution_count": 13,
   "id": "574e8b98-ac88-45c3-a00b-6077e19ad205",
   "metadata": {
    "tags": []
   },
   "outputs": [
    {
     "name": "stdin",
     "output_type": "stream",
     "text": [
      "Enter Product ID or Product Name: 112\n"
     ]
    },
    {
     "name": "stdout",
     "output_type": "stream",
     "text": [
      "***** Poduct Details *****\n",
      "Product ID : 112\n",
      "Prodcut Name : chips\n",
      "Category : snacks\n",
      "Quantity : 100\n",
      "Price per unit : 30\n",
      "Expirt Date : 2024-01-21\n"
     ]
    }
   ],
   "source": [
    "search_product = input(\"Enter Product ID or Product Name:\")\n",
    "search(search_product)"
   ]
  },
  {
   "cell_type": "markdown",
   "id": "7221e8b0-67b8-4c17-bbae-afbaa19cac69",
   "metadata": {},
   "source": [
    "## Adding Values to the database"
   ]
  },
  {
   "cell_type": "code",
   "execution_count": 7,
   "id": "a18646b9-1c10-4d0c-9266-91e7016ad5da",
   "metadata": {
    "tags": []
   },
   "outputs": [],
   "source": [
    "def add(id , name , category , qty , price , exp , dict):\n",
    "    \n",
    "    dict[int(id)] = {\"product_name\":name,\n",
    "                 \"cat\":category,\n",
    "                  \"qty\":100,\n",
    "                  \"price\":30,\n",
    "                  \"exp\":\"2024-01-21\",\n",
    "                 }\n",
    "    with open(\"data.json\", \"w\") as outfile: \n",
    "        json.dump(inventory, outfile)\n",
    "    print(\"Product added successfully !!!\")"
   ]
  },
  {
   "cell_type": "code",
   "execution_count": 8,
   "id": "2f519106-d71e-43f9-82a0-ef71363fbc57",
   "metadata": {
    "tags": []
   },
   "outputs": [
    {
     "name": "stdout",
     "output_type": "stream",
     "text": [
      "**** Add new products to database ****\n"
     ]
    },
    {
     "name": "stdin",
     "output_type": "stream",
     "text": [
      "ID :  156\n",
      "Product Name :  charger\n",
      "Category :  accessories\n",
      "Quantity :  23\n",
      "Price :  100\n",
      "Expiry Date :  None\n"
     ]
    },
    {
     "name": "stdout",
     "output_type": "stream",
     "text": [
      "Product added successfully !!!\n"
     ]
    }
   ],
   "source": [
    "print(\"**** Add new products to database ****\")\n",
    "id = int(input(\"ID : \"))\n",
    "name  = input(\"Product Name : \")\n",
    "cat  = input(\"Category : \")\n",
    "qty = int(input(\"Quantity : \"))\n",
    "price = int(input(\"Price : \"))\n",
    "exp  = input(\"Expiry Date : \")\n",
    "\n",
    "add(id , name , cat , qty , price , exp , inventory)"
   ]
  },
  {
   "cell_type": "markdown",
   "id": "f10cafee-e005-4711-af18-588d2e62c62f",
   "metadata": {},
   "source": [
    "## Update"
   ]
  },
  {
   "cell_type": "code",
   "execution_count": 10,
   "id": "a6005c56-6789-4f04-b423-54c0c0fbf1bc",
   "metadata": {
    "tags": []
   },
   "outputs": [
    {
     "name": "stdout",
     "output_type": "stream",
     "text": [
      "**** Choices you Have****\n",
      "--------------------\n",
      "1.Name\n",
      "2.Category\n",
      "3.Quantity\n",
      "4.Price\n",
      "5.Expiry Date\n",
      "6.Exit\n",
      "--------------------\n"
     ]
    },
    {
     "name": "stdin",
     "output_type": "stream",
     "text": [
      "Enter Product ID : 156\n"
     ]
    },
    {
     "name": "stdout",
     "output_type": "stream",
     "text": [
      "--------------------\n"
     ]
    },
    {
     "name": "stdin",
     "output_type": "stream",
     "text": [
      "What value you want to update for 156 ?(select choices from above table) 4\n",
      "Enter new price: 150\n"
     ]
    },
    {
     "name": "stdout",
     "output_type": "stream",
     "text": [
      "--------------------\n"
     ]
    },
    {
     "name": "stdin",
     "output_type": "stream",
     "text": [
      "Anything else  ? 6\n"
     ]
    }
   ],
   "source": [
    "print(\"**** Choices you Have****\")\n",
    "print(\"-\"*20)\n",
    "print(\"1.Name\")\n",
    "print(\"2.Category\")\n",
    "print(\"3.Quantity\")\n",
    "print(\"4.Price\")\n",
    "print(\"5.Expiry Date\")\n",
    "print(\"6.Exit\")\n",
    "print(\"-\"*20)\n",
    "\n",
    "update_id = int(input(\"Enter Product ID :\"))\n",
    "print(\"-\"*20)\n",
    "ch = int(input(f\"What value you want to update for {update_id} ?(select choices from above table)\"))\n",
    "\n",
    "while(ch != 6):\n",
    "    if ch == 1:\n",
    "        new_name = input(\"Enter new product name:\")\n",
    "        inventory[update_id][\"product_name\"] = new_name\n",
    "        \n",
    "    elif ch == 2:\n",
    "        new_cat = input(\"Enter new category:\")\n",
    "        inventory[update_id][\"cat\"] = new_cat\n",
    "        \n",
    "    elif ch == 3:\n",
    "        new_qty = input(\"Enter new quantity:\")\n",
    "        inventory[update_id][\"qty\"] = int(new_qty)\n",
    "        \n",
    "    elif ch == 4:\n",
    "        new_price = input(\"Enter new price:\")\n",
    "        inventory[update_id][\"price\"] = int(new_price)\n",
    "        \n",
    "    elif ch == 5:\n",
    "        new_exp = input(\"Enter new expiry date:\")\n",
    "        inventory[update_id][\"exp\"] = new_exp\n",
    "        \n",
    "    print(\"-\"*20)\n",
    "\n",
    "    ch = int(input(f\"Anything else  ?\"))\n",
    "        "
   ]
  },
  {
   "cell_type": "code",
   "execution_count": 11,
   "id": "da553abd-a925-418b-bbc5-1c8fd2f26faa",
   "metadata": {
    "tags": []
   },
   "outputs": [
    {
     "name": "stdout",
     "output_type": "stream",
     "text": [
      "---- INVENTORY LIST ----\n",
      "--------------------\n",
      "--------------------\n",
      "Product ID: 111\n",
      "Product Name:oil\n",
      "Category:cooking\n",
      "Quantity: 6\n",
      "Price: 350\n",
      "Expiry:2023-12-31\n",
      "--------------------\n",
      "Product ID: 112\n",
      "Product Name:chips\n",
      "Category:snacks\n",
      "Quantity: 100\n",
      "Price: 30\n",
      "Expiry:2024-01-21\n",
      "--------------------\n",
      "Product ID: 113\n",
      "Product Name:notebooks\n",
      "Category:stationary\n",
      "Quantity: 109\n",
      "Price: 60\n",
      "Expiry:None\n",
      "--------------------\n",
      "Product ID: 114\n",
      "Product Name:pens\n",
      "Category:stationary\n",
      "Quantity: 200\n",
      "Price: 10\n",
      "Expiry:None\n",
      "--------------------\n",
      "Product ID: 115\n",
      "Product Name:bulbs\n",
      "Category:electric\n",
      "Quantity: 45\n",
      "Price: 103\n",
      "Expiry:None\n",
      "--------------------\n",
      "Product ID: 116\n",
      "Product Name:boric powder\n",
      "Category:workshop\n",
      "Quantity: 30\n",
      "Price: 45\n",
      "Expiry:2024-12-31\n",
      "--------------------\n",
      "Product ID: 156\n",
      "Product Name:charger\n",
      "Category:accessories\n",
      "Quantity: 100\n",
      "Price: 150\n",
      "Expiry:2024-01-21\n"
     ]
    }
   ],
   "source": [
    "display(inventory)"
   ]
  },
  {
   "cell_type": "markdown",
   "id": "01d71631-7148-44a0-8677-327763e39191",
   "metadata": {},
   "source": [
    "## Reading json file"
   ]
  },
  {
   "cell_type": "code",
   "execution_count": 12,
   "id": "361e1abc-b7fa-4591-b050-e31211e6df1f",
   "metadata": {
    "tags": []
   },
   "outputs": [
    {
     "name": "stdout",
     "output_type": "stream",
     "text": [
      "{\"111\": {\"product_name\": \"oil\", \"cat\": \"cooking\", \"qty\": 6, \"price\": 350, \"exp\": \"2023-12-31\"}, \"112\": {\"product_name\": \"chips\", \"cat\": \"snacks\", \"qty\": 100, \"price\": 30, \"exp\": \"2024-01-21\"}, \"113\": {\"product_name\": \"notebooks\", \"cat\": \"stationary\", \"qty\": 109, \"price\": 60, \"exp\": null}, \"114\": {\"product_name\": \"pens\", \"cat\": \"stationary\", \"qty\": 200, \"price\": 10, \"exp\": null}, \"115\": {\"product_name\": \"bulbs\", \"cat\": \"electric\", \"qty\": 45, \"price\": 103, \"exp\": null}, \"116\": {\"product_name\": \"boric powder\", \"cat\": \"workshop\", \"qty\": 30, \"price\": 45, \"exp\": \"2024-12-31\"}, \"156\": {\"product_name\": \"charger\", \"cat\": \"accessories\", \"qty\": 100, \"price\": 30, \"exp\": \"2024-01-21\"}}\n"
     ]
    }
   ],
   "source": [
    "f = open('./data.json')\n",
    "print(f.read())"
   ]
  }
 ],
 "metadata": {
  "kernelspec": {
   "display_name": "Python 3 (ipykernel)",
   "language": "python",
   "name": "python3"
  },
  "language_info": {
   "codemirror_mode": {
    "name": "ipython",
    "version": 3
   },
   "file_extension": ".py",
   "mimetype": "text/x-python",
   "name": "python",
   "nbconvert_exporter": "python",
   "pygments_lexer": "ipython3",
   "version": "3.11.3"
  }
 },
 "nbformat": 4,
 "nbformat_minor": 5
}
